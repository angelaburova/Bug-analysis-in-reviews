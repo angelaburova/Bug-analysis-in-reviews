{
 "cells": [
  {
   "cell_type": "code",
   "execution_count": 1,
   "metadata": {
    "collapsed": true
   },
   "outputs": [],
   "source": [
    "import pandas as pd\n",
    "import codecs"
   ]
  },
  {
   "cell_type": "code",
   "execution_count": 2,
   "metadata": {
    "collapsed": true
   },
   "outputs": [],
   "source": [
    "# open file for analysis\n",
    "filename = \"./data/app_review_bugs_test.csv\"\n",
    "file = codecs.open(filename,\"r\",\"utf8\")\n",
    "dt = pd.read_csv(file)\n",
    "file.close()"
   ]
  },
  {
   "cell_type": "code",
   "execution_count": 3,
   "metadata": {
    "collapsed": false
   },
   "outputs": [],
   "source": [
    "# cut out useless fields and rows with ratings less than 4 \n",
    "dt_4 = dt[dt['Rating'] < 4]\n",
    "dt_4_p = dt_4.drop(['Device', \"Device Type\", \"Date\", \"AppName\", \"Language\", \"Index\"], axis=1)"
   ]
  },
  {
   "cell_type": "code",
   "execution_count": 4,
   "metadata": {
    "collapsed": false
   },
   "outputs": [],
   "source": [
    "# removing punctuation marks to '.' and conversation to lower case\n",
    "before_lemm = list(dt_4_p.Review)\n",
    "separates = u\".,!?;:()[]{}\\n\"\n",
    "separates_for_remove = u'\"\\'$@#%^&*+-=\\|/№'\n",
    "for i in range(len(before_lemm)):\n",
    "    before_lemm[i] = unicode(str(before_lemm[i]), 'utf8')\n",
    "    for j in separates_for_remove:\n",
    "        before_lemm[i] = before_lemm[i].replace(j, u\" \")\n",
    "    for j in separates:\n",
    "        before_lemm[i] = before_lemm[i].replace(j, u\" . \")\n",
    "\n",
    "    before_lemm[i] = before_lemm[i].replace(u\" но \", u\" . \")\n",
    "    before_lemm[i] = before_lemm[i].replace(u\" а \", u\" . \")\n",
    "    before_lemm[i] = before_lemm[i].replace(u\".  что \", u\" . \")\n",
    "    \n",
    "    before_lemm[i] = before_lemm[i].lower()"
   ]
  },
  {
   "cell_type": "code",
   "execution_count": 5,
   "metadata": {
    "collapsed": false
   },
   "outputs": [],
   "source": [
    "# open file for lemmatization\n",
    "# w[0] - form\n",
    "# w[1] - lemma\n",
    "\n",
    "# you need to open archive new_dict.rar for this file\n",
    "dict_file_name = \"utils/new_dict.txt\"\n",
    "file_lemm = open(dict_file_name, \"r\")\n",
    "lemm_str = file_lemm.readlines()\n",
    "\n",
    "lemm_arr_form = []\n",
    "lemm_arr_orig = []\n",
    "for string in lemm_str:\n",
    "    string=unicode(str(string), 'utf8')\n",
    "    string=string.replace(\"\\n\", \"\")\n",
    "    w = string.split(\" \")\n",
    "    lemm_arr_form.append(w[0])\n",
    "    lemm_arr_orig.append(w[1])\n",
    "\n",
    "file_lemm.close()"
   ]
  },
  {
   "cell_type": "code",
   "execution_count": 6,
   "metadata": {
    "collapsed": true
   },
   "outputs": [],
   "source": [
    "# just binary searching\n",
    "def bin_search(arr, word):\n",
    "   l=0\n",
    "   r=len(arr)\n",
    "   while(r-l > 1):\n",
    "      m = (r + l) // 2\n",
    "      if word < arr[m]:\n",
    "         r=m\n",
    "      else:\n",
    "         l=m\n",
    "   return l if arr[l]==word else -1\n",
    "\n",
    "def correct_text(text, lemm_arr_form, lemm_arr_orig):\n",
    "    new = []\n",
    "    reviews = len(text)\n",
    "    for i in range(reviews):\n",
    "        if type(text[i]) != unicode:\n",
    "            review1 = unicode(str(text[i]), 'utf8')\n",
    "        else:\n",
    "            review1 = unicode(text[i])\n",
    "        words = review1.split(u\" \")\n",
    "        new_words = u\"\"\n",
    "        for w in words:\n",
    "            index = bin_search(lemm_arr_form, w)\n",
    "            if index != -1:\n",
    "                w=lemm_arr_orig[index]\n",
    "            new_words += w + u\" \"\n",
    "        new.append(new_words)\n",
    "    return new"
   ]
  },
  {
   "cell_type": "code",
   "execution_count": 7,
   "metadata": {
    "collapsed": false
   },
   "outputs": [],
   "source": [
    "# getting lemms for words in text\n",
    "after_lemmatisation = correct_text(before_lemm, lemm_arr_form, lemm_arr_orig)"
   ]
  },
  {
   "cell_type": "code",
   "execution_count": 8,
   "metadata": {
    "collapsed": false
   },
   "outputs": [],
   "source": [
    "out_lemms = open(\"lemm.txt\", \"w+\")\n",
    "for i in range(len(after_lemmatisation)):\n",
    "    out_lemms.write(after_lemmatisation[i].encode(\"utf-8\") + \"\\n\")"
   ]
  },
  {
   "cell_type": "code",
   "execution_count": 9,
   "metadata": {
    "collapsed": false
   },
   "outputs": [],
   "source": [
    "# reading noisy words \n",
    "filename_noise = \"./utils/noise_words.csv\"\n",
    "file_noise = codecs.open(filename_noise,\"r\",\"utf8\")\n",
    "noise_words = pd.read_csv(file_noise, sep=\" \", names=['idx', 'Freq', 'Word', 'Type'])\n",
    "noise_words = noise_words.drop(['idx', 'Freq', 'Type'], axis=1)\n",
    "file_noise.close()"
   ]
  },
  {
   "cell_type": "code",
   "execution_count": 10,
   "metadata": {
    "collapsed": false
   },
   "outputs": [
    {
     "name": "stdout",
     "output_type": "stream",
     "text": [
      "were words = 259167\n",
      "removed = 204208\n"
     ]
    }
   ],
   "source": [
    "# removing noisy words\n",
    "n_first_noise_words = 10000\n",
    "first = noise_words.Word[0:n_first_noise_words]\n",
    "first_list = list(first)\n",
    "\n",
    "#to unicode\n",
    "for i in range(len(first_list)):\n",
    "    if type(first_list[i]) != unicode:\n",
    "        first_list[i] = unicode(str(first_list[i]), 'utf8')\n",
    "first_list.sort()\n",
    "\n",
    "after_noise = []\n",
    "indexes = []\n",
    "\n",
    "removed = 0\n",
    "not_removed = 0\n",
    "for i in range(len(after_lemmatisation)):\n",
    "    words = after_lemmatisation[i].split(u\" \")\n",
    "    new_text = u\"\"\n",
    "    local_indexes = []\n",
    "    for j in range(len(words)):\n",
    "        w = words[j]\n",
    "        if w.find(u\".\")>-1 or w == u\"\":\n",
    "            continue\n",
    "        index = bin_search(first_list, w)\n",
    "        if index == -1:\n",
    "            new_text += w + u\" \"\n",
    "            local_indexes.append(j)\n",
    "            not_removed +=1\n",
    "        else:\n",
    "            removed +=1\n",
    "    after_noise.append(new_text)\n",
    "    indexes.append(local_indexes)\n",
    "\n",
    "print \"were words = \" + str(removed + not_removed)\n",
    "print \"removed = \" + str(removed)"
   ]
  },
  {
   "cell_type": "code",
   "execution_count": 11,
   "metadata": {
    "collapsed": false
   },
   "outputs": [],
   "source": [
    "# reading key words\n",
    "key_words_file = \"./utils/key_words.csv\"\n",
    "file_key = codecs.open(key_words_file,\"r\",\"utf8\")\n",
    "key_words_df = pd.read_csv(file_key, sep=\",\")\n",
    "key_words=list(key_words_df[\"word\"])\n",
    "scores=list(key_words_df[\"score\"])\n",
    "file_key.close()"
   ]
  },
  {
   "cell_type": "code",
   "execution_count": 12,
   "metadata": {
    "collapsed": false
   },
   "outputs": [
    {
     "name": "stderr",
     "output_type": "stream",
     "text": [
      "C:\\Users\\egorsmir\\AppData\\Local\\Continuum\\Anaconda2\\lib\\site-packages\\ipykernel\\__main__.py:18: UnicodeWarning: Unicode equal comparison failed to convert both arguments to Unicode - interpreting them as being unequal\n"
     ]
    }
   ],
   "source": [
    "# do key words searching\n",
    "size = len(after_lemmatisation)\n",
    "points_for_word = 10\n",
    "results = []\n",
    "\n",
    "# loop by reviews\n",
    "for i in range(size):\n",
    "    lemm = after_lemmatisation[i].split(u\" \")\n",
    "    source = before_lemm[i].split(u\" \")\n",
    "    \n",
    "    # do score calculation for each word\n",
    "    n_words=len(lemm)\n",
    "    scores_for_words=[]\n",
    "    for j in range(n_words):\n",
    "        scores_for_words.append(0)\n",
    "        if j in indexes[i]:\n",
    "            scores_for_words[j] += points_for_word\n",
    "        if lemm[j] in key_words:\n",
    "            idx = key_words.index(lemm[j])\n",
    "            scores_for_words[j] += scores[idx]\n",
    "    prev=0\n",
    "    sentence = []\n",
    "    \n",
    "    # compute score for each sentence\n",
    "    for j in range(n_words):\n",
    "        if lemm[j] == \".\":\n",
    "            score = 0\n",
    "            for k in range(prev,j):\n",
    "                score += scores_for_words[k]\n",
    "            sentence.append([score, prev, j])           \n",
    "            prev = j\n",
    "    if prev < n_words -1:\n",
    "        score = 0\n",
    "        for k in range(prev,n_words):\n",
    "            score += scores_for_words[k]\n",
    "        sentence.append([score, prev, n_words])\n",
    "    \n",
    "    # choose 1 sentense with max score\n",
    "    max = 0\n",
    "    idx = 0\n",
    "    for j in range(len(sentence)):\n",
    "        if sentence[j][0] > max:\n",
    "            max = sentence[j][0]\n",
    "            idx = j\n",
    "    if len(sentence) == 0:\n",
    "        continue\n",
    "    x = sentence[idx][1]\n",
    "    if x !=0:\n",
    "        x +=1\n",
    "    y = sentence[idx][2]\n",
    "    results.append(\" \".join(source[x:y]).encode(\"utf-8\"))"
   ]
  },
  {
   "cell_type": "code",
   "execution_count": 13,
   "metadata": {
    "collapsed": false
   },
   "outputs": [],
   "source": [
    "# removing useless spases \n",
    "for i in range(len(results)):\n",
    "    if len(results[i])>0:\n",
    "        while(results[i][0] == \" \"):\n",
    "            results[i] = results[i][1:]\n",
    "            if len(results[i]) == 0:\n",
    "                break\n",
    "    if len(results[i])>0:\n",
    "        while(results[i][len(results[i])-1] == \" \"):\n",
    "            results[i] = results[i][0:len(results[i])-1]\n",
    "            if len(results[i]) == 0:\n",
    "                break\n",
    "    while results[i].find(\"  \")>-1:\n",
    "        results[i] = results[i].replace(\"  \", \" \")"
   ]
  },
  {
   "cell_type": "code",
   "execution_count": 21,
   "metadata": {
    "collapsed": false
   },
   "outputs": [
    {
     "name": "stdout",
     "output_type": "stream",
     "text": [
      "один вопрос .  вы приложение собираться переделывать .  .  .  я посол запуск ваше приложение приходиться перезапускать телефон .  чтобы система не висеть .  . у я 4 ядро .  я узкий баланс проверять смской через номер 900 лишь бы приложение не открывать .  поучиться у альфабанка или уралсиба .  у он всё гладкий работать .  \n",
      "стать неудобный пря загрузка выписка . отрываться дать за деть и приходиться постоянный тыкать . чтобы открыть далеко .  так же нет возможность фильтр нормальный .  только по сумма .  и нет как заявить ни зарплатной ведомость .  ни выставление счет \n",
      "посол обновление приложение перестать нравиться .  через wi fi невозможный зайти .  почему если у я дом стоять роутер .  я должный тратить трафик инета .  .  .  полный бред .  \n",
      "не перевод не мобильный не оплатить .  пока шаблон не создать \n",
      "этот приложение только чтобы узнать баланс .  много ничто сделать не мочь . даже телефон оплатить \n",
      "писать ошибка 24 .  обьясните что этот такой .  хотеть до этот пользоваться прогой  . . посол сброс до заводской настройка не мочь загрузить  . хотеть все остальные без проблема .  \n",
      "телефон только из магазин .  . писать про какой тот рута правый .  рута нет  . специально проверить .  .  прошивка официальный .  micromax a200 .  проблема безопасность можно решать другой способ .  я казаться .  \n",
      "идея приложение отличный .  .  .  но вот почему тот все время не мочь открыть приложение .  .  .  писать соединение разорвать подключиться к другой сеть . или что тот похожий .   .  хотеть интернет работать отличный .  .  .  \n",
      "заепался по два раз пароль вводить на вход .  программист .  гореть в ад .  \n",
      "пользоваться нельзя  . тот не так тот ли рута тот ли прошивка .  телефон новый .  удалить приложение .  спасибо \n",
      "приложение не скачиваться \n",
      "заходить в приложение  ввозить пароль появляться солнце и приветствие . затем приложение закрываться .  .  .  и всё .  .  .  спрашиваться как теперь пользоваться онлайн банк .  \n",
      "не видеть в раздел платеж .  мобильный связь вообщем ничто кром .  перевод между свой счет .  шаблон .  автоплатеж .  капилка .  и много ничто .  \n",
      "нет возможность повторить платеж .  сделать перевод клиент сбербанк и много еще другой перевод .  почему нельзя сделать такой же приложение как в айфоне .  \n",
      "проблема с внутренний клавиатура .  из за этот не мочь войти в приложение .  часть клавиатура находиться под системный виртуальный кнопка .  андроид 5 .  \n",
      "пря установка приложение выходить кода ошибка  24 .  рано приложение быть установить на устройство .  . прийтись сделать возврат к заводской настройка .  посол что приложение и не стать устанавливаться \n",
      "корявый приложение .  банк дерьмо .  перевод слать четыре день .  запрашивать инфу .  засорить телефон смс ками по повод и без .  не давать никакой гарантия по безопасность платеж .  сбербанк говно .  .  .  \n",
      "медленный входить в приложение .  проверка занимать длительный время посол ввод пинкода или отпечаток палец .  ускорить процесс .  в экстренный момент перевести деньги или оплатить что либо неудобный .  \n",
      "не мочь перевести клиент сбербанк и перевести в другой банк .  .  . что за ерунда .  \n",
      "приложение не работать .  если запретить он доступ к все личный дать .  ограничить режим приводить к вылет приложение .  я не нужный в телефон шпион еще и от сбербанк .  \n"
     ]
    }
   ],
   "source": [
    "# examples of result\n",
    "for i in range(20,40):\n",
    "    print after_lemmatisation[i]"
   ]
  },
  {
   "cell_type": "code",
   "execution_count": 20,
   "metadata": {
    "collapsed": false
   },
   "outputs": [
    {
     "name": "stdout",
     "output_type": "stream",
     "text": [
      "Один вопрос! Вы приложение собираетесь переделывать??? Мне после запуска вашего приложения приходится перезапускать телефон, чтобы система не висела, а у меня 4 ядра. Я уже баланс проверяю смской через номер 900 лишь бы приложение не открывать. Поучитесь у АльфаБанка или УралСиба, у них всё гладко работает.\n",
      "Key words: мне после запуска вашего приложения приходится перезапускать телефон\n",
      "-------------------------------------\n",
      "Стало неудобно при загрузке выписки,отрываются данные за день и приходится постоянно тыкать,чтобы открыть дальше, так же нет возможности фильтра нормального, только по сумме, и нет как заявлено ни зарплатной ведомости, ни выставления счетов\n",
      "Key words: стало неудобно при загрузке выписки\n",
      "-------------------------------------\n",
      "После обновления приложение перестало нравится. Через wi-fi невозможно зайти? Почему если у меня дома стоит роутер, я должна тратить трафик инета??? Полный бред.\n",
      "Key words: через wi fi невозможно зайти\n",
      "-------------------------------------\n",
      "Не переводы не мобильный не оплатить, пока шаблон не создашь\n",
      "Key words: не переводы не мобильный не оплатить\n",
      "-------------------------------------\n",
      "Это приложение только чтобы узнать баланс. Больше ничего сделать не могу,даже телефон оплатить\n",
      "Key words: это приложение только чтобы узнать баланс\n",
      "-------------------------------------\n",
      "Пишет ошибка 24. Обьясните что это такое? Хотя до этого пользовалась прогой ,но после сброса до заводской настройки не могу загрузить ,хотя все остальные без проблем.\n",
      "Key words: после сброса до заводской настройки не могу загрузить\n",
      "-------------------------------------\n",
      "Телефон только из магазина, но пишет про какие-то рут-права. Рута нет (специально проверил), прошивка официальная. Micromax A200. Проблемы безопасности можно решать другим способом, мне кажется.\n",
      "Key words: micromax a200\n",
      "-------------------------------------\n",
      "Идея приложения отличная... Но вот почему то все время не могу открыть приложение... Пишет соединение разорвано подключитесь к другой сети(или что-то похожее) , хотя интернет работает отлично...\n",
      "Key words: но вот почему то все время не могу открыть приложение\n",
      "-------------------------------------\n",
      "Заепался по два раза пароль вводить на входе, программисты, горите в аду!\n",
      "Key words: заепался по два раза пароль вводить на входе\n",
      "-------------------------------------\n",
      "Пользоваться нельзя, что то не так то-ли Рут то-ли прошивка, телефон новый, удалила приложение, спасибо\n",
      "Key words: то не так то ли рут то ли прошивка\n",
      "-------------------------------------\n",
      "Приложения не скачиваются\n",
      "Key words: приложения не скачиваются\n",
      "-------------------------------------\n",
      "Захожу в приложение 'ввожу пароль появляется солнце и приветствие а затем приложение закрывается... И всё... Спрашивается как теперь пользоваться онлайн банком?\n",
      "Key words: захожу в приложение ввожу пароль появляется солнце и приветствие\n",
      "-------------------------------------\n",
      "не вижу в разделе платежи, мобильную связь вообщем ничего кроме: перевод между своими счетами, шаблоны, автоплатеж, капилка. И больше НИЧЕГО.\n",
      "Key words: мобильную связь вообщем ничего кроме\n",
      "-------------------------------------\n",
      "Нет возможности повторить платеж, сделать перевод клиенту сбербанка и много еще других переводов, почему нельзя сделать такое же приложение как в айфоне?\n",
      "Key words: нет возможности повторить платеж\n",
      "-------------------------------------\n",
      "Проблема с внутренней клавиатурой. Из за этого не могу войти в приложение. Часть клавиатуры находится под системными виртуальными кнопками. Андроид 5.\n",
      "Key words: часть клавиатуры находится под системными виртуальными кнопками\n",
      "-------------------------------------\n",
      "При установке приложения выходи код ошибки -24, ранее приложение было установлено на устройстве, но пришлось сделать возврат к заводским настройкам, после чего приложение и не стало устанавливаться\n",
      "Key words: при установке приложения выходи код ошибки 24\n",
      "-------------------------------------\n",
      "Корявое приложение, банк дерьмо, переводы шлет четыре дня, запрашивают инфу, засорили телефон смс-ками по поводу и без, не дают никаких гарантий по безопасности платежей. Сбербанк говно!!!\n",
      "Key words: засорили телефон смс ками по поводу и без\n",
      "-------------------------------------\n",
      "Медленно входит в приложении. Проверка занимает длительное время после ввода пинкода или отпечатка пальца. Ускорьте процесс, в экстренных моментах перевести деньги или оплатить что-либо неудобно.\n",
      "Key words: проверка занимает длительное время после ввода пинкода или отпечатка пальца\n",
      "-------------------------------------\n",
      "Не могу перевести клиенту сбербанка и перевести в другой банк...что за ерунда?\n",
      "Key words: не могу перевести клиенту сбербанка и перевести в другой банк\n",
      "-------------------------------------\n",
      "Приложение не работает, если запретить ему доступ ко всем личным данным. Ограниченный режим приводит к вылетам приложения. Мне не нужен в телефоне шпион еще и от Сбербанка.\n",
      "Key words: если запретить ему доступ ко всем личным данным\n",
      "-------------------------------------\n"
     ]
    }
   ],
   "source": [
    "x = list(dt_4_p.Review)\n",
    "for i in range(20,40):\n",
    "    print x[i]\n",
    "    print \"Key words: \" + results[i]\n",
    "    print \"-------------------------------------\""
   ]
  },
  {
   "cell_type": "code",
   "execution_count": 15,
   "metadata": {
    "collapsed": false
   },
   "outputs": [],
   "source": [
    "#to file\n",
    "out_file_name = \"results.txt\"\n",
    "file = open(out_file_name, \"w+\")\n",
    "\n",
    "res = dt.copy()\n",
    "\n",
    "ratings = list(res[\"Rating\"])\n",
    "reviews = list(res[\"Review\"])\n",
    "\n",
    "file.write(\"Review,IsBag,KeyWords\\n\")\n",
    "\n",
    "\n",
    "size = len(ratings)\n",
    "idx = 0\n",
    "for i in range(size):\n",
    "    string = str(reviews[i]) + \",\"\n",
    "    if ratings[i]>=4:\n",
    "        string += \"false,\"\n",
    "    else:\n",
    "        string += \"true,\" + results[idx]\n",
    "        idx+=1\n",
    "    file.write(string + \"\\n\")\n",
    "file.close()"
   ]
  },
  {
   "cell_type": "code",
   "execution_count": null,
   "metadata": {
    "collapsed": true
   },
   "outputs": [],
   "source": []
  },
  {
   "cell_type": "code",
   "execution_count": null,
   "metadata": {
    "collapsed": true
   },
   "outputs": [],
   "source": []
  },
  {
   "cell_type": "code",
   "execution_count": null,
   "metadata": {
    "collapsed": true
   },
   "outputs": [],
   "source": []
  },
  {
   "cell_type": "code",
   "execution_count": null,
   "metadata": {
    "collapsed": true
   },
   "outputs": [],
   "source": []
  }
 ],
 "metadata": {
  "kernelspec": {
   "display_name": "Python 2",
   "language": "python",
   "name": "python2"
  },
  "language_info": {
   "codemirror_mode": {
    "name": "ipython",
    "version": 2
   },
   "file_extension": ".py",
   "mimetype": "text/x-python",
   "name": "python",
   "nbconvert_exporter": "python",
   "pygments_lexer": "ipython2",
   "version": "2.7.13"
  }
 },
 "nbformat": 4,
 "nbformat_minor": 2
}
